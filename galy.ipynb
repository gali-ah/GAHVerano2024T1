{
 "cells": [
  {
   "cell_type": "markdown",
   "metadata": {},
   "source": [
    "Deporte. Se entrevistó a 30 personas para que indicaran cuál es su equipo de futbol preferido. Los\n",
    "resultados fueron los siguientes:\n",
    "Construye la distribución de frecuencias correspondiente."
   ]
  },
  {
   "cell_type": "code",
   "execution_count": null,
   "metadata": {},
   "outputs": [],
   "source": [
    "import matplotlib.pyplot as plt"
   ]
  },
  {
   "cell_type": "markdown",
   "metadata": {},
   "source": [
    "Tabla de frecuencias "
   ]
  },
  {
   "cell_type": "code",
   "execution_count": null,
   "metadata": {},
   "outputs": [],
   "source": [
    "\n",
    "\n",
    "def generar_distribucion_frecuencias(clases, fa, fr, fc):\n",
    "\n",
    "    plt.figure(figsize=(12, 6))\n",
    "\n",
    "    plt.bar(clases, fa, color=\"#FF5733\", edgecolor=\"k\", label=\"Frecuencia Absoluta\")\n",
    "\n",
    "    plt.plot(clases, fr, color=\"#3339FF\", marker=\"o\", linewidth=3, label=\"Frecuencia Relativa\")\n",
    "cumulada\n",
    "    plt.plot(clases, fc, color=\"#E6FF33\", marker=\"o\", linewidth=3, label=\"Frecuencia Acumulada\")\n",
    "\n",
    "    plt.ylabel(\"Frecuencia\", fontsize=25)\n",
    "    plt.xlabel(\"Clases\", fontsize=25)\n",
    "    plt.title(\"Distribución de Frecuencias\", fontsize=40)\n",
    "\n",
    "    plt.xticks(rotation=45, ha=\"right\", fontsize=15)\n",
    "\n",
    "    plt.legend(fontsize=15)\n",
    "\n",
    "    plt.grid()\n",
    "\n",
    "    plt.show()\n",
    "\n",
    "clases = ['pumas', 'chivas', 'santos', 'america', 'toluca', 'mexaca']\n",
    "fa = [8, 5, 3, 8, 4, 2]\n",
    "\n",
    "fr = [f/sum(fa) for f in fa]  # Frecuencia relativa\n",
    "fc = [sum(fa[:i+1]) for i in range(len(fa))]  # Frecuencia acumulada\n",
    "\n",
    "generar_distribucion_frecuencias(clases, fa, fr, fc)"
   ]
  },
  {
   "cell_type": "markdown",
   "metadata": {},
   "source": [
    "Construye un diagrama de barras "
   ]
  },
  {
   "cell_type": "code",
   "execution_count": null,
   "metadata": {},
   "outputs": [],
   "source": [
    "\n",
    "def generar_diagrama_barras_horizontal(fa_sorted, clases_sorted, marcas_clase, labelx, labely, titulo):\n",
    "\n",
    "    plt.figure(figsize=(12, 6))\n",
    "\n",
    "    plt.barh(marcas_clase, fa_sorted, height=0.8, edgecolor=\"k\",\n",
    "            color=[\"#FF5733\", \"#33FFF3\", \"#FF33F9\", \"#3339FF\", \"#E6FF33\", \"#FF3346\"])\n",
    "\n",
    "    # Personalizar marcas del eje Y (inclinadas 45°) y tamaño de fuente\n",
    "    plt.yticks(marcas_clase, clases_sorted, fontsize=15)\n",
    "\n",
    "    # Etiquetas y título del gráfico con tamaño de fuente grande\n",
    "    plt.ylabel(labelx, fontsize=25)  # Etiqueta del eje Y\n",
    "    plt.xlabel(labely, fontsize=25)  # Etiqueta del eje X\n",
    "    plt.title(titulo, fontsize=40)\n",
    "\n",
    "    # Activar cuadrícula\n",
    "    plt.grid()\n",
    "\n",
    "    # Mostrar el gráfico\n",
    "    plt.show()\n",
    "\n",
    "clases = ['pumas', 'chivas', 'santos', 'america', 'toluca', 'mexaca']\n",
    "fa = [8, 5, 3, 8, 4, 2]\n",
    "\n",
    "fr = [f/sum(fa) for f in fa]  # Frecuencia relativa\n",
    "fc = [sum(fa[:i+1]) for i in range(len(fa))]  # Frecuencia acumulada\n",
    "\n",
    "generar_diagrama_barras_horizontal(fa, clases, clases, 'Clases', 'Frecuencia Absoluta', 'Diagrama de Barras Horizontal')"
   ]
  },
  {
   "cell_type": "markdown",
   "metadata": {},
   "source": [
    "Diagrama de pastel "
   ]
  },
  {
   "cell_type": "code",
   "execution_count": null,
   "metadata": {},
   "outputs": [],
   "source": [
    "\n",
    "def generar_pastel(clases_sorted, datos, titulo):\n",
    "    plt.pie(datos, \n",
    "            labels = clases_sorted,\n",
    "            colors = [ \"#33FFF3\", \"#FF33F9\", \"#3339FF\",\"#FF5733\", \"#E6FF33\", \"#FF3346\"],\n",
    "            autopct = \"%0.01f%%\",\n",
    "            pctdistance = 0.8,\n",
    "            counterclock = False,\n",
    "            startangle = 90\n",
    "           )\n",
    "    plt.title(titulo, fontsize=40)\n",
    "    plt.show()\n",
    "\n",
    "# Datos proporcionados\n",
    "clases = ['pumas', 'chivas', 'santos', 'america', 'toluca', 'mexaca']\n",
    "fa = [8, 5, 3, 8, 4, 2]\n",
    "\n",
    "# Generar el diagrama de pastel\n",
    "generar_pastel(clases, fa, 'Diagrama de Pastel')"
   ]
  },
  {
   "cell_type": "markdown",
   "metadata": {},
   "source": []
  }
 ],
 "metadata": {
  "kernelspec": {
   "display_name": "Python 3",
   "language": "python",
   "name": "python3"
  },
  "language_info": {
   "name": "python",
   "version": "3.12.1"
  }
 },
 "nbformat": 4,
 "nbformat_minor": 2
}

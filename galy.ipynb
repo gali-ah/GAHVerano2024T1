{
 "cells": [
  {
   "cell_type": "markdown",
   "metadata": {},
   "source": [
    "Sociedad. En un estudio se desea conocer cuáles son los apellidos más comunes en México. Para\n",
    "ello se les preguntó a 100 personas su apellido y los resultados son los siguientes:\n",
    "\n",
    "a) Construye una tabla de frecuencias."
   ]
  },
  {
   "cell_type": "code",
   "execution_count": null,
   "metadata": {},
   "outputs": [
    {
     "ename": "",
     "evalue": "",
     "output_type": "error",
     "traceback": [
      "\u001b[1;31mLa ejecución de celdas con '/opt/homebrew/bin/python3.12' requiere el paquete ipykernel.\n",
      "\u001b[1;31mRun the following command to install 'ipykernel' into the Python environment. \n",
      "\u001b[1;31mCommand: '/opt/homebrew/bin/python3.12 -m pip install ipykernel -U --user --force-reinstall'"
     ]
    }
   ],
   "source": [
    "def calcular_frecuencia(apellidos):\n",
    "\n",
    "    frecuencia_absoluta = {}\n",
    "    for apellido in apellidos:\n",
    "        if apellido in frecuencia_absoluta:\n",
    "            frecuencia_absoluta[apellido] += 1\n",
    "        else:\n",
    "            frecuencia_absoluta[apellido] = 1\n",
    "\n",
    "    total_apellidos = sum(frecuencia_absoluta.values())\n",
    "    frecuencia_relativa = {}\n",
    "    frecuencia_acumulada = {}\n",
    "    acumulado = 0\n",
    "    for apellido, frecuencia in frecuencia_absoluta.items():\n",
    "        frecuencia_relativa[apellido] = frecuencia / total_apellidos\n",
    "        acumulado += frecuencia_relativa[apellido]\n",
    "        frecuencia_acumulada[apellido] = acumulado\n",
    "    \n",
    "    return {\n",
    "        \"frecuencia_absoluta\": frecuencia_absoluta,\n",
    "        \"frecuencia_relativa\": frecuencia_relativa,\n",
    "        \"frecuencia_acumulada\": frecuencia_acumulada\n",
    "    }\n",
    "\n",
    "apellidos = ['Ramírez', 'Rodríguez', 'Hernández', 'Gonzáles', 'García', 'Martínez', 'López', 'Gutiérrez', 'Pérez', 'Sánchez', 'Flores']\n",
    "frecuencias = calcular_frecuencia(apellidos)\n",
    "\n",
    "print(\"Tabla de frecuencias:\")\n",
    "print(\"Apellido | Frecuencia Absoluta | Frecuencia Relativa | Frecuencia Acumulada\")\n",
    "print(\"--------|-------------------|-------------------|-------------------\")\n",
    "for apellido, frecuencia in frecuencias[\"frecuencia_absoluta\"].items():\n",
    "    print(f\"{apellido:10} | {frecuencia:18} | {frecuencias['frecuencia_relativa'][apellido]:18.4f} | {frecuencias['frecuencia_acumulada'][apellido]:18.4f}\")\n",
    "    "
   ]
  },
  {
   "cell_type": "code",
   "execution_count": null,
   "metadata": {},
   "outputs": [
    {
     "ename": "",
     "evalue": "",
     "output_type": "error",
     "traceback": [
      "\u001b[1;31mLa ejecución de celdas con '/opt/homebrew/bin/python3.12' requiere el paquete ipykernel.\n",
      "\u001b[1;31mRun the following command to install 'ipykernel' into the Python environment. \n",
      "\u001b[1;31mCommand: '/opt/homebrew/bin/python3.12 -m pip install ipykernel -U --user --force-reinstall'"
     ]
    }
   ],
   "source": [
    "import matplotlib.pyplot as plt\n",
    "\n",
    "plt.figure(figsize=(12,6)) # Ancho, alto del gráfico\n",
    "frecuencias = [5, 9, 15, 12, 13, 12, 8, 3, 6, 8, 3] # Datos del eje y (frecuencias absolutas)\n",
    "marcas_clase = list(range(len(frecuencias))) # Datos del eje x\n",
    "marcas_texto = [\"Ramirez\", \"Rodriguez\", \"Hernandez\", \"Gonzales\", \"Garcia\", \"Martinez\", \"Lopez\", \"Gutierrez\", \"Perez\", \"Sanchez\", \"Flores\"] # Etiquetas de las barras\n",
    "\n",
    "plt.barh(marcas_clase, frecuencias, \n",
    "        height=0.7, edgecolor=\"k\",\n",
    "        color=[\"#0F0000\", \"#3A9F30\", \"#30419F\", \"#FFA8DF\", \"#FFA8BD\", \"#A8FFFB\", \"#FF00FF\", \"#00FFFF\", \"#FFFF00\", \"#FF8000\", \"#008000\"])\n",
    "\n",
    "plt.yticks(marcas_clase, marcas_texto, fontsize=10)\n",
    "plt.xlabel(\"Frecuencia absoluta\", fontsize=15)\n",
    "plt.ylabel(\"Apellido\", fontsize=15)\n",
    "plt.title(\"Diagrama de barras de frecuencias de apellidos\", fontsize=20)\n",
    "plt.grid() # Activar cuadrícula\n",
    "plt.show() # Mostrar gráfico\n",
    "plt.show()"
   ]
  }
 ],
 "metadata": {
  "kernelspec": {
   "display_name": "Python 3",
   "language": "python",
   "name": "python3"
  },
  "language_info": {
   "name": "python",
   "version": "3.12.1"
  }
 },
 "nbformat": 4,
 "nbformat_minor": 2
}
